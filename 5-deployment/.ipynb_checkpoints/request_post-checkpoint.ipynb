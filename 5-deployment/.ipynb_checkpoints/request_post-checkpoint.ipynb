{
 "cells": [
  {
   "cell_type": "code",
   "execution_count": 14,
   "id": "4ffff98a-f8eb-476d-8c17-ffb83cf4c391",
   "metadata": {},
   "outputs": [],
   "source": [
    "import requests"
   ]
  },
  {
   "cell_type": "code",
   "execution_count": 15,
   "id": "fe469f8a-1c63-4e88-a0cb-f8d770e550c6",
   "metadata": {},
   "outputs": [],
   "source": [
    "url = 'http://localhost:9697/predict'"
   ]
  },
  {
   "cell_type": "code",
   "execution_count": 42,
   "id": "b34f9a5f-b30b-465f-8d08-f04d109f529c",
   "metadata": {},
   "outputs": [],
   "source": [
    "customer = {\n",
    "    \"lead_source\":\"paid_ads\",\n",
    "    \"industry\": \"retail\",\n",
    "    \"number_of_courses_viewed\": 5,\n",
    "    \"annual_income\": 83843.0,\n",
    "    \"employment_status\": \"NaN\",\n",
    "    \"location\": \"australia\",\n",
    "    \"interaction_count\": 1,\n",
    "    \"lead_score\": 0.87\n",
    "}"
   ]
  },
  {
   "cell_type": "code",
   "execution_count": 43,
   "id": "e21dfbf2-689f-45c6-9a89-150c6e21f44e",
   "metadata": {},
   "outputs": [
    {
     "data": {
      "text/plain": [
       "{'conversion_prediction': 1, 'conversion_probability': 0.7143365922729006}"
      ]
     },
     "execution_count": 43,
     "metadata": {},
     "output_type": "execute_result"
    }
   ],
   "source": [
    "requests.post(url, json= customer).json()"
   ]
  },
  {
   "cell_type": "code",
   "execution_count": null,
   "id": "4cca9bc2-2d4a-4438-87de-3d8b963a4583",
   "metadata": {},
   "outputs": [],
   "source": []
  }
 ],
 "metadata": {
  "kernelspec": {
   "display_name": "Python 3 (ipykernel)",
   "language": "python",
   "name": "python3"
  },
  "language_info": {
   "codemirror_mode": {
    "name": "ipython",
    "version": 3
   },
   "file_extension": ".py",
   "mimetype": "text/x-python",
   "name": "python",
   "nbconvert_exporter": "python",
   "pygments_lexer": "ipython3",
   "version": "3.9.6"
  }
 },
 "nbformat": 4,
 "nbformat_minor": 5
}
