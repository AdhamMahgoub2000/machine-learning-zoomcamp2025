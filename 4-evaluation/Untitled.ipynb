{
 "cells": [
  {
   "cell_type": "markdown",
   "id": "bef70ec6-abc7-4ad1-b065-248af2098a17",
   "metadata": {},
   "source": [
    "## Module 4 Homework"
   ]
  },
  {
   "cell_type": "markdown",
   "id": "da05124d-a0d6-4b4f-9e04-ddd75515ff37",
   "metadata": {},
   "source": [
    "## load Dataset"
   ]
  },
  {
   "cell_type": "code",
   "execution_count": 124,
   "id": "ab482695-1597-4ae6-b866-05857affa55c",
   "metadata": {},
   "outputs": [],
   "source": [
    "import pandas as pd \n",
    "import numpy as np\n",
    "import matplotlib.pyplot as plt"
   ]
  },
  {
   "cell_type": "code",
   "execution_count": 125,
   "id": "23070af0-1476-4ccb-83bb-4da1bbd1b8e2",
   "metadata": {},
   "outputs": [],
   "source": [
    "df = pd.read_csv('https://raw.githubusercontent.com/alexeygrigorev/datasets/master/course_lead_scoring.csv')"
   ]
  },
  {
   "cell_type": "code",
   "execution_count": 126,
   "id": "8aefd82a-f0ff-4388-b5ea-79cae316be38",
   "metadata": {},
   "outputs": [
    {
     "data": {
      "text/html": [
       "<div>\n",
       "<style scoped>\n",
       "    .dataframe tbody tr th:only-of-type {\n",
       "        vertical-align: middle;\n",
       "    }\n",
       "\n",
       "    .dataframe tbody tr th {\n",
       "        vertical-align: top;\n",
       "    }\n",
       "\n",
       "    .dataframe thead th {\n",
       "        text-align: right;\n",
       "    }\n",
       "</style>\n",
       "<table border=\"1\" class=\"dataframe\">\n",
       "  <thead>\n",
       "    <tr style=\"text-align: right;\">\n",
       "      <th></th>\n",
       "      <th>lead_source</th>\n",
       "      <th>industry</th>\n",
       "      <th>number_of_courses_viewed</th>\n",
       "      <th>annual_income</th>\n",
       "      <th>employment_status</th>\n",
       "      <th>location</th>\n",
       "      <th>interaction_count</th>\n",
       "      <th>lead_score</th>\n",
       "      <th>converted</th>\n",
       "    </tr>\n",
       "  </thead>\n",
       "  <tbody>\n",
       "    <tr>\n",
       "      <th>0</th>\n",
       "      <td>paid_ads</td>\n",
       "      <td>NaN</td>\n",
       "      <td>1</td>\n",
       "      <td>79450.0</td>\n",
       "      <td>unemployed</td>\n",
       "      <td>south_america</td>\n",
       "      <td>4</td>\n",
       "      <td>0.94</td>\n",
       "      <td>1</td>\n",
       "    </tr>\n",
       "    <tr>\n",
       "      <th>1</th>\n",
       "      <td>social_media</td>\n",
       "      <td>retail</td>\n",
       "      <td>1</td>\n",
       "      <td>46992.0</td>\n",
       "      <td>employed</td>\n",
       "      <td>south_america</td>\n",
       "      <td>1</td>\n",
       "      <td>0.80</td>\n",
       "      <td>0</td>\n",
       "    </tr>\n",
       "    <tr>\n",
       "      <th>2</th>\n",
       "      <td>events</td>\n",
       "      <td>healthcare</td>\n",
       "      <td>5</td>\n",
       "      <td>78796.0</td>\n",
       "      <td>unemployed</td>\n",
       "      <td>australia</td>\n",
       "      <td>3</td>\n",
       "      <td>0.69</td>\n",
       "      <td>1</td>\n",
       "    </tr>\n",
       "    <tr>\n",
       "      <th>3</th>\n",
       "      <td>paid_ads</td>\n",
       "      <td>retail</td>\n",
       "      <td>2</td>\n",
       "      <td>83843.0</td>\n",
       "      <td>NaN</td>\n",
       "      <td>australia</td>\n",
       "      <td>1</td>\n",
       "      <td>0.87</td>\n",
       "      <td>0</td>\n",
       "    </tr>\n",
       "    <tr>\n",
       "      <th>4</th>\n",
       "      <td>referral</td>\n",
       "      <td>education</td>\n",
       "      <td>3</td>\n",
       "      <td>85012.0</td>\n",
       "      <td>self_employed</td>\n",
       "      <td>europe</td>\n",
       "      <td>3</td>\n",
       "      <td>0.62</td>\n",
       "      <td>1</td>\n",
       "    </tr>\n",
       "  </tbody>\n",
       "</table>\n",
       "</div>"
      ],
      "text/plain": [
       "    lead_source    industry  ...  lead_score  converted\n",
       "0      paid_ads         NaN  ...        0.94          1\n",
       "1  social_media      retail  ...        0.80          0\n",
       "2        events  healthcare  ...        0.69          1\n",
       "3      paid_ads      retail  ...        0.87          0\n",
       "4      referral   education  ...        0.62          1\n",
       "\n",
       "[5 rows x 9 columns]"
      ]
     },
     "execution_count": 126,
     "metadata": {},
     "output_type": "execute_result"
    }
   ],
   "source": [
    "df.head()"
   ]
  },
  {
   "cell_type": "code",
   "execution_count": 127,
   "id": "b340c2e1-c9e7-46ea-8734-60267f72f85e",
   "metadata": {},
   "outputs": [
    {
     "data": {
      "text/plain": [
       "lead_source                 128\n",
       "industry                    134\n",
       "number_of_courses_viewed      0\n",
       "annual_income               181\n",
       "employment_status           100\n",
       "location                     63\n",
       "interaction_count             0\n",
       "lead_score                    0\n",
       "converted                     0\n",
       "dtype: int64"
      ]
     },
     "execution_count": 127,
     "metadata": {},
     "output_type": "execute_result"
    }
   ],
   "source": [
    "df.isnull().sum()"
   ]
  },
  {
   "cell_type": "code",
   "execution_count": 128,
   "id": "0ea34508-3376-46dc-837f-e6f71e1f5587",
   "metadata": {},
   "outputs": [],
   "source": [
    "categorical= df.dtypes[df.dtypes == 'object'].index.to_list()\n",
    "numerical  = df.dtypes[df.dtypes != 'object'].index.to_list()\n",
    "numerical.remove('converted')"
   ]
  },
  {
   "cell_type": "code",
   "execution_count": 129,
   "id": "ca9a8299-905e-475a-a9e3-862330f4f8f9",
   "metadata": {},
   "outputs": [],
   "source": [
    "df[numerical]   = df[numerical].fillna(0)\n",
    "df[categorical] = df[categorical].fillna('NA')"
   ]
  },
  {
   "cell_type": "markdown",
   "id": "a906dd16-83fa-4452-b117-3694c315ccda",
   "metadata": {},
   "source": [
    "## Split the dataset"
   ]
  },
  {
   "cell_type": "code",
   "execution_count": 130,
   "id": "9b27c79a-481e-4b83-929c-e9ae517e6482",
   "metadata": {},
   "outputs": [],
   "source": [
    "from sklearn.model_selection import train_test_split"
   ]
  },
  {
   "cell_type": "code",
   "execution_count": 131,
   "id": "2261aad8-2f67-4d0e-b34b-74f03680f340",
   "metadata": {},
   "outputs": [],
   "source": [
    "full_train,df_test = train_test_split(df        ,test_size=0.2  , random_state=1)\n",
    "df_train  ,df_val  = train_test_split(full_train,test_size= 0.25, random_state=1)"
   ]
  },
  {
   "cell_type": "code",
   "execution_count": null,
   "id": "4988eea3-853d-4fb6-b289-e8911c5b37bb",
   "metadata": {},
   "outputs": [],
   "source": []
  },
  {
   "cell_type": "markdown",
   "id": "b3895c88-1643-4323-b234-381bfcee8951",
   "metadata": {},
   "source": [
    "## Question 1 - AUC for feature importance"
   ]
  },
  {
   "cell_type": "code",
   "execution_count": 132,
   "id": "9b2e3311-12ff-4a97-b3d8-7b057d4b84c1",
   "metadata": {},
   "outputs": [],
   "source": [
    "from sklearn.metrics import roc_auc_score\n",
    "from sklearn.metrics import roc_curve\n",
    "from sklearn.metrics import precision_score\n",
    "from sklearn.metrics import recall_score\n",
    "from sklearn.feature_extraction import DictVectorizer\n",
    "from sklearn.linear_model import LogisticRegression"
   ]
  },
  {
   "cell_type": "code",
   "execution_count": 133,
   "id": "f4c879e5-3120-4305-8649-61fdae928f60",
   "metadata": {},
   "outputs": [
    {
     "name": "stdout",
     "output_type": "stream",
     "text": [
      "number_of_courses_viewed 0.7635680590007088\n",
      "annual_income 0.5519578313253012\n",
      "interaction_count 0.738270176293409\n",
      "lead_score 0.6144993577250176\n"
     ]
    }
   ],
   "source": [
    "for col in numerical:\n",
    "    auc = roc_auc_score(df_train.converted,df_train[col])\n",
    "    print(col,auc)"
   ]
  },
  {
   "cell_type": "markdown",
   "id": "7593bdc1-5307-449b-8a9c-e3a99431834e",
   "metadata": {},
   "source": [
    "The Highest AUC in number_of_course_viewed"
   ]
  },
  {
   "cell_type": "markdown",
   "id": "45a21f50-d016-4fc2-b26e-1d13352623ac",
   "metadata": {},
   "source": [
    "## Question 2 - Training the model"
   ]
  },
  {
   "cell_type": "code",
   "execution_count": 193,
   "id": "f043d185-6a81-48aa-9424-d4382791549b",
   "metadata": {},
   "outputs": [],
   "source": [
    "def train(df_train, y_train,C=1):\n",
    "    dicts_train= df_train[categorical+ numerical].to_dict(orient='records')\n",
    "    dv         = DictVectorizer(sparse = False)\n",
    "    X_train    = dv.fit_transform(dicts_train)\n",
    "\n",
    "    model = LogisticRegression(solver='liblinear', C=C, max_iter=1000)\n",
    "    model.fit(X_train,y_train)\n",
    "    return model , dv"
   ]
  },
  {
   "cell_type": "code",
   "execution_count": 135,
   "id": "6dd997d2-0a84-4d38-8b91-38b65798cc22",
   "metadata": {},
   "outputs": [],
   "source": [
    "def predict(df_val, model, dv):\n",
    "    dicts_val= df_val[categorical+ numerical].to_dict(orient='records')\n",
    "    X_val    =  dv.transform(dicts_val)\n",
    "\n",
    "    y_pred   = model.predict_proba(X_val)[:, 1]\n",
    "    return y_pred\n",
    "    "
   ]
  },
  {
   "cell_type": "code",
   "execution_count": 136,
   "id": "082b6312-da6c-4dc9-8931-7a9bbbaa7766",
   "metadata": {},
   "outputs": [],
   "source": [
    "y_train  = df_train['converted'].values\n",
    "y_val  = df_val['converted'].values\n",
    "\n",
    "model,dv = train(df_train,y_train)"
   ]
  },
  {
   "cell_type": "code",
   "execution_count": 137,
   "id": "d79e9ca6-2245-4142-b6bd-72abf7539add",
   "metadata": {},
   "outputs": [
    {
     "name": "stderr",
     "output_type": "stream",
     "text": [
      "/Users/adhamsmacbook/Library/Python/3.9/lib/python/site-packages/sklearn/utils/extmath.py:203: RuntimeWarning: divide by zero encountered in matmul\n",
      "  ret = a @ b\n",
      "/Users/adhamsmacbook/Library/Python/3.9/lib/python/site-packages/sklearn/utils/extmath.py:203: RuntimeWarning: overflow encountered in matmul\n",
      "  ret = a @ b\n",
      "/Users/adhamsmacbook/Library/Python/3.9/lib/python/site-packages/sklearn/utils/extmath.py:203: RuntimeWarning: invalid value encountered in matmul\n",
      "  ret = a @ b\n"
     ]
    }
   ],
   "source": [
    "y_pred = predict(df_val,model,dv)"
   ]
  },
  {
   "cell_type": "code",
   "execution_count": 138,
   "id": "823dcf86-e373-4ba4-9870-adaddf9189dc",
   "metadata": {},
   "outputs": [
    {
     "data": {
      "text/plain": [
       "np.float64(0.817)"
      ]
     },
     "execution_count": 138,
     "metadata": {},
     "output_type": "execute_result"
    }
   ],
   "source": [
    "auc = roc_auc_score(y_val,y_pred)\n",
    "auc.round(3)"
   ]
  },
  {
   "cell_type": "code",
   "execution_count": 139,
   "id": "4f602eae-948b-4d58-a158-43de02ac69cd",
   "metadata": {},
   "outputs": [],
   "source": [
    "fpr,tpr,t = roc_curve(y_val,y_pred)"
   ]
  },
  {
   "cell_type": "code",
   "execution_count": 140,
   "id": "a22ca620-ac3e-42f4-a204-ad1391cf6491",
   "metadata": {},
   "outputs": [
    {
     "data": {
      "text/plain": [
       "[<matplotlib.lines.Line2D at 0x30ee22430>]"
      ]
     },
     "execution_count": 140,
     "metadata": {},
     "output_type": "execute_result"
    },
    {
     "data": {
      "image/png": "[encoded data removed]",
      "text/plain": [
       "<Figure size 640x480 with 1 Axes>"
      ]
     },
     "metadata": {},
     "output_type": "display_data"
    }
   ],
   "source": [
    "plt.plot(fpr,tpr)"
   ]
  },
  {
   "cell_type": "markdown",
   "id": "857b3316-6c69-4aa9-8bf7-f9d6dcdfeea2",
   "metadata": {},
   "source": [
    "## Question 3 - Precision and Recall"
   ]
  },
  {
   "cell_type": "code",
   "execution_count": 151,
   "id": "a292271e-4d0c-41ba-93f3-ccd39181574c",
   "metadata": {},
   "outputs": [],
   "source": [
    "thresholds = np.linspace(0,1,101)"
   ]
  },
  {
   "cell_type": "code",
   "execution_count": 152,
   "id": "d224824f-64cc-4ea4-ab79-b2a3f8ba4187",
   "metadata": {},
   "outputs": [
    {
     "name": "stdout",
     "output_type": "stream",
     "text": [
      "0.0 0.5836177474402731 1.0\n",
      "0.01 0.5836177474402731 1.0\n",
      "0.02 0.5836177474402731 1.0\n",
      "0.03 0.5836177474402731 1.0\n",
      "0.04 0.5836177474402731 1.0\n",
      "0.05 0.5836177474402731 1.0\n",
      "0.06 0.5836177474402731 1.0\n",
      "0.07 0.5836177474402731 1.0\n",
      "0.08 0.5836177474402731 1.0\n",
      "0.09 0.5836177474402731 1.0\n",
      "0.1 0.5836177474402731 1.0\n",
      "0.11 0.5836177474402731 1.0\n",
      "0.12 0.5836177474402731 1.0\n",
      "0.13 0.5836177474402731 1.0\n",
      "0.14 0.5836177474402731 1.0\n",
      "0.15 0.5836177474402731 1.0\n",
      "0.16 0.5836177474402731 1.0\n",
      "0.17 0.5836177474402731 1.0\n",
      "0.18 0.5836177474402731 1.0\n",
      "0.19 0.5836177474402731 1.0\n",
      "0.2 0.5836177474402731 1.0\n",
      "0.21 0.5836177474402731 1.0\n",
      "0.22 0.5836177474402731 1.0\n",
      "0.23 0.5836177474402731 1.0\n",
      "0.24 0.5836177474402731 1.0\n",
      "0.25 0.5836177474402731 1.0\n",
      "0.26 0.5836177474402731 1.0\n",
      "0.27 0.5856164383561644 1.0\n",
      "0.28 0.5876288659793815 1.0\n",
      "0.29 0.5896551724137931 1.0\n",
      "0.3 0.5896551724137931 1.0\n",
      "0.31 0.5896551724137931 1.0\n",
      "0.32 0.5916955017301038 1.0\n",
      "0.33 0.5916955017301038 1.0\n",
      "0.34 0.59375 1.0\n",
      "0.35000000000000003 0.59375 1.0\n",
      "0.36 0.5979020979020979 1.0\n",
      "0.37 0.5979020979020979 1.0\n",
      "0.38 0.602112676056338 1.0\n",
      "0.39 0.6107142857142858 1.0\n",
      "0.4 0.6195652173913043 1.0\n",
      "0.41000000000000003 0.6204379562043796 0.9941520467836257\n",
      "0.42 0.6319702602230484 0.9941520467836257\n",
      "0.43 0.6343283582089553 0.9941520467836257\n",
      "0.44 0.6439393939393939 0.9941520467836257\n",
      "0.45 0.6475095785440613 0.9883040935672515\n",
      "0.46 0.6525096525096525 0.9883040935672515\n",
      "0.47000000000000003 0.65625 0.9824561403508771\n",
      "0.48 0.6666666666666666 0.9707602339181286\n",
      "0.49 0.6653225806451613 0.9649122807017544\n",
      "0.5 0.6693877551020408 0.9590643274853801\n",
      "0.51 0.6763485477178424 0.9532163742690059\n",
      "0.52 0.688034188034188 0.9415204678362573\n",
      "0.53 0.7 0.9415204678362573\n",
      "0.54 0.7079646017699115 0.935672514619883\n",
      "0.55 0.7194570135746606 0.9298245614035088\n",
      "0.56 0.7235023041474654 0.9181286549707602\n",
      "0.5700000000000001 0.7323943661971831 0.9122807017543859\n",
      "0.58 0.7333333333333333 0.9005847953216374\n",
      "0.59 0.7414634146341463 0.8888888888888888\n",
      "0.6 0.7389162561576355 0.8771929824561403\n",
      "0.61 0.7474747474747475 0.8654970760233918\n",
      "0.62 0.7606382978723404 0.8362573099415205\n",
      "0.63 0.7637362637362637 0.8128654970760234\n",
      "0.64 0.7790697674418605 0.783625730994152\n",
      "0.65 0.7784431137724551 0.7602339181286549\n",
      "0.66 0.779874213836478 0.7251461988304093\n",
      "0.67 0.7973856209150327 0.7134502923976608\n",
      "0.68 0.8055555555555556 0.6783625730994152\n",
      "0.6900000000000001 0.8043478260869565 0.6491228070175439\n",
      "0.7000000000000001 0.8091603053435115 0.6198830409356725\n",
      "0.71 0.8188976377952756 0.6081871345029239\n",
      "0.72 0.8220338983050848 0.5672514619883041\n",
      "0.73 0.8256880733944955 0.5263157894736842\n",
      "0.74 0.8461538461538461 0.5146198830409356\n",
      "0.75 0.85 0.49707602339181284\n",
      "0.76 0.8723404255319149 0.47953216374269003\n",
      "0.77 0.8764044943820225 0.45614035087719296\n",
      "0.78 0.9 0.42105263157894735\n",
      "0.79 0.9178082191780822 0.391812865497076\n",
      "0.8 0.9142857142857143 0.3742690058479532\n",
      "0.81 0.9130434782608695 0.3684210526315789\n",
      "0.8200000000000001 0.9365079365079365 0.34502923976608185\n",
      "0.8300000000000001 0.9298245614035088 0.30994152046783624\n",
      "0.84 0.9285714285714286 0.30409356725146197\n",
      "0.85 0.9583333333333334 0.26900584795321636\n",
      "0.86 0.9534883720930233 0.23976608187134502\n",
      "0.87 0.9444444444444444 0.19883040935672514\n",
      "0.88 0.9393939393939394 0.18128654970760233\n",
      "0.89 0.9642857142857143 0.15789473684210525\n",
      "0.9 0.96 0.14035087719298245\n",
      "0.91 0.9473684210526315 0.10526315789473684\n",
      "0.92 0.9166666666666666 0.06432748538011696\n",
      "0.93 1.0 0.04093567251461988\n",
      "0.9400000000000001 1.0 0.04093567251461988\n",
      "0.9500000000000001 1.0 0.029239766081871343\n",
      "0.96 1.0 0.017543859649122806\n",
      "0.97 1.0 0.005847953216374269\n",
      "0.98 0.0 0.0\n",
      "0.99 0.0 0.0\n",
      "1.0 0.0 0.0\n"
     ]
    },
    {
     "name": "stderr",
     "output_type": "stream",
     "text": [
      "/Users/adhamsmacbook/Library/Python/3.9/lib/python/site-packages/sklearn/metrics/_classification.py:1565: UndefinedMetricWarning: Precision is ill-defined and being set to 0.0 due to no predicted samples. Use `zero_division` parameter to control this behavior.\n",
      "  _warn_prf(average, modifier, f\"{metric.capitalize()} is\", len(result))\n",
      "/Users/adhamsmacbook/Library/Python/3.9/lib/python/site-packages/sklearn/metrics/_classification.py:1565: UndefinedMetricWarning: Precision is ill-defined and being set to 0.0 due to no predicted samples. Use `zero_division` parameter to control this behavior.\n",
      "  _warn_prf(average, modifier, f\"{metric.capitalize()} is\", len(result))\n",
      "/Users/adhamsmacbook/Library/Python/3.9/lib/python/site-packages/sklearn/metrics/_classification.py:1565: UndefinedMetricWarning: Precision is ill-defined and being set to 0.0 due to no predicted samples. Use `zero_division` parameter to control this behavior.\n",
      "  _warn_prf(average, modifier, f\"{metric.capitalize()} is\", len(result))\n"
     ]
    },
    {
     "data": {
      "text/plain": [
       "[<matplotlib.lines.Line2D at 0x30f6170a0>]"
      ]
     },
     "execution_count": 152,
     "metadata": {},
     "output_type": "execute_result"
    },
    {
     "data": {
      "image/png": "[encoded data removed]",
      "text/plain": [
       "<Figure size 640x480 with 1 Axes>"
      ]
     },
     "metadata": {},
     "output_type": "display_data"
    }
   ],
   "source": [
    "precision = []\n",
    "recall    = []\n",
    "for t in thresholds:\n",
    "    y_p = (y_pred >= t).astype(int)\n",
    "    p = precision_score(y_val,y_p)\n",
    "    r = recall_score(y_val, y_p)\n",
    "    precision.append(p)\n",
    "    recall.append(r)\n",
    "    print(t,p,r)\n",
    "\n",
    "plt.plot(thresholds,recall)\n",
    "plt.plot(thresholds, precision)\n"
   ]
  },
  {
   "cell_type": "markdown",
   "id": "84a846ba-1572-4580-8abb-796de22a921d",
   "metadata": {},
   "source": [
    "## Question 4 - F1 score"
   ]
  },
  {
   "cell_type": "code",
   "execution_count": 184,
   "id": "b16bd03d-baa5-496b-a14f-b9682f4ef352",
   "metadata": {},
   "outputs": [
    {
     "name": "stdout",
     "output_type": "stream",
     "text": [
      "0.0 0.7606382978723404 0.6137339055793991 1.0\n",
      "0.01 0.7606382978723404 0.6137339055793991 1.0\n",
      "0.02 0.7606382978723404 0.6137339055793991 1.0\n",
      "0.03 0.7606382978723404 0.6137339055793991 1.0\n",
      "0.04 0.7606382978723404 0.6137339055793991 1.0\n",
      "0.05 0.7606382978723404 0.6137339055793991 1.0\n",
      "0.06 0.7606382978723404 0.6137339055793991 1.0\n",
      "0.07 0.7606382978723404 0.6137339055793991 1.0\n",
      "0.08 0.7606382978723404 0.6137339055793991 1.0\n",
      "0.09 0.7606382978723404 0.6137339055793991 1.0\n",
      "0.1 0.7606382978723404 0.6137339055793991 1.0\n",
      "0.11 0.7606382978723404 0.6137339055793991 1.0\n",
      "0.12 0.7606382978723404 0.6137339055793991 1.0\n",
      "0.13 0.7606382978723404 0.6137339055793991 1.0\n",
      "0.14 0.7606382978723404 0.6137339055793991 1.0\n",
      "0.15 0.7606382978723404 0.6137339055793991 1.0\n",
      "0.16 0.7606382978723404 0.6137339055793991 1.0\n",
      "0.17 0.7606382978723404 0.6137339055793991 1.0\n",
      "0.18 0.7606382978723404 0.6137339055793991 1.0\n",
      "0.19 0.7606382978723404 0.6137339055793991 1.0\n",
      "0.2 0.7606382978723404 0.6137339055793991 1.0\n",
      "0.21 0.7606382978723404 0.6137339055793991 1.0\n",
      "0.22 0.7626666666666667 0.6163793103448276 1.0\n",
      "0.23 0.7626666666666667 0.6163793103448276 1.0\n",
      "0.24 0.7626666666666667 0.6163793103448276 1.0\n",
      "0.25 0.7626666666666667 0.6163793103448276 1.0\n",
      "0.26 0.7626666666666667 0.6163793103448276 1.0\n",
      "0.27 0.7647058823529412 0.6190476190476191 1.0\n",
      "0.28 0.7647058823529412 0.6190476190476191 1.0\n",
      "0.29 0.7647058823529412 0.6190476190476191 1.0\n",
      "0.3 0.7688172043010753 0.6244541484716157 1.0\n",
      "0.31 0.772972972972973 0.6299559471365639 1.0\n",
      "0.32 0.7771739130434783 0.6355555555555555 1.0\n",
      "0.33 0.7814207650273224 0.6412556053811659 1.0\n",
      "0.34 0.7835616438356164 0.6441441441441441 1.0\n",
      "0.35000000000000003 0.7944444444444445 0.6589861751152074 1.0\n",
      "0.36 0.8011204481792717 0.6682242990654206 1.0\n",
      "0.37 0.8033707865168539 0.6713615023474179 1.0\n",
      "0.38 0.8033707865168539 0.6713615023474179 1.0\n",
      "0.39 0.8114285714285715 0.6859903381642513 0.993006993006993\n",
      "0.4 0.8160919540229884 0.6926829268292682 0.993006993006993\n",
      "0.41000000000000003 0.8184438040345821 0.696078431372549 0.993006993006993\n",
      "0.42 0.8208092485549133 0.6995073891625616 0.993006993006993\n",
      "0.43 0.8279883381924198 0.71 0.993006993006993\n",
      "0.44 0.8402366863905325 0.7282051282051282 0.993006993006993\n",
      "0.45 0.8452380952380952 0.7357512953367875 0.993006993006993\n",
      "0.46 0.8468468468468469 0.7421052631578947 0.986013986013986\n",
      "0.47000000000000003 0.8493975903614458 0.746031746031746 0.986013986013986\n",
      "0.48 0.851063829787234 0.7526881720430108 0.9790209790209791\n",
      "0.49 0.8553846153846153 0.7637362637362637 0.972027972027972\n",
      "0.5 0.8633540372670808 0.776536312849162 0.972027972027972\n",
      "0.51 0.866043613707165 0.7808988764044944 0.972027972027972\n",
      "0.52 0.8714733542319749 0.7897727272727273 0.972027972027972\n",
      "0.53 0.8670886075949367 0.791907514450867 0.958041958041958\n",
      "0.54 0.8662420382165605 0.7953216374269005 0.951048951048951\n",
      "0.55 0.8645161290322582 0.8023952095808383 0.9370629370629371\n",
      "0.56 0.8636363636363636 0.806060606060606 0.9300699300699301\n",
      "0.5700000000000001 0.8627450980392156 0.8098159509202454 0.9230769230769231\n",
      "0.58 0.8504983388704319 0.810126582278481 0.8951048951048951\n",
      "0.59 0.835016835016835 0.8051948051948052 0.8671328671328671\n",
      "0.6 0.8338983050847457 0.8092105263157895 0.8601398601398601\n",
      "0.61 0.8247422680412371 0.8108108108108109 0.8391608391608392\n",
      "0.62 0.8098591549295774 0.8156028368794326 0.8041958041958042\n",
      "0.63 0.7985611510791367 0.8222222222222222 0.7762237762237763\n",
      "0.64 0.7749077490774908 0.8203125 0.7342657342657343\n",
      "0.65 0.7686567164179103 0.824 0.7202797202797203\n",
      "0.66 0.7575757575757576 0.8264462809917356 0.6993006993006993\n",
      "0.67 0.749034749034749 0.8362068965517241 0.6783216783216783\n",
      "0.68 0.7294117647058824 0.8303571428571429 0.6503496503496503\n",
      "0.6900000000000001 0.7222222222222222 0.8348623853211009 0.6363636363636364\n",
      "0.7000000000000001 0.7016129032258066 0.8285714285714286 0.6083916083916084\n",
      "0.71 0.6721991701244813 0.826530612244898 0.5664335664335665\n",
      "0.72 0.6551724137931034 0.8539325842696629 0.5314685314685315\n",
      "0.73 0.6216216216216216 0.8734177215189873 0.4825174825174825\n",
      "0.74 0.599078341013825 0.8783783783783784 0.45454545454545453\n",
      "0.75 0.5687203791469194 0.8823529411764706 0.4195804195804196\n",
      "0.76 0.5603864734299516 0.90625 0.40559440559440557\n",
      "0.77 0.541871921182266 0.9166666666666666 0.38461538461538464\n",
      "0.78 0.505050505050505 0.9090909090909091 0.34965034965034963\n",
      "0.79 0.4845360824742268 0.9215686274509803 0.32867132867132864\n",
      "0.8 0.47916666666666663 0.9387755102040817 0.32167832167832167\n",
      "0.81 0.43010752688172044 0.9302325581395349 0.27972027972027974\n",
      "0.8200000000000001 0.3956043956043956 0.9230769230769231 0.2517482517482518\n",
      "0.8300000000000001 0.3728813559322034 0.9705882352941176 0.23076923076923078\n",
      "0.84 0.36363636363636365 0.9696969696969697 0.22377622377622378\n",
      "0.85 0.36363636363636365 0.9696969696969697 0.22377622377622378\n",
      "0.86 0.3157894736842105 0.9642857142857143 0.1888111888111888\n",
      "0.87 0.3176470588235294 1.0 0.1888111888111888\n",
      "0.88 0.25609756097560976 1.0 0.14685314685314685\n",
      "0.89 0.2345679012345679 1.0 0.13286713286713286\n",
      "0.9 0.16666666666666669 1.0 0.09090909090909091\n",
      "0.91 0.14285714285714288 1.0 0.07692307692307693\n",
      "0.92 0.09333333333333334 1.0 0.04895104895104895\n",
      "0.93 0.09333333333333334 1.0 0.04895104895104895\n",
      "0.9400000000000001 0.08053691275167786 1.0 0.04195804195804196\n",
      "0.9500000000000001 0.0410958904109589 1.0 0.02097902097902098\n",
      "0.96 0.027586206896551724 1.0 0.013986013986013986\n",
      "0.97 0.013888888888888888 1.0 0.006993006993006993\n",
      "0.98 0 0.0 0.0\n",
      "0.99 0 0.0 0.0\n",
      "1.0 0 0.0 0.0\n"
     ]
    },
    {
     "name": "stderr",
     "output_type": "stream",
     "text": [
      "/Users/adhamsmacbook/Library/Python/3.9/lib/python/site-packages/sklearn/metrics/_classification.py:1565: UndefinedMetricWarning: Precision is ill-defined and being set to 0.0 due to no predicted samples. Use `zero_division` parameter to control this behavior.\n",
      "  _warn_prf(average, modifier, f\"{metric.capitalize()} is\", len(result))\n",
      "/Users/adhamsmacbook/Library/Python/3.9/lib/python/site-packages/sklearn/metrics/_classification.py:1565: UndefinedMetricWarning: Precision is ill-defined and being set to 0.0 due to no predicted samples. Use `zero_division` parameter to control this behavior.\n",
      "  _warn_prf(average, modifier, f\"{metric.capitalize()} is\", len(result))\n",
      "/Users/adhamsmacbook/Library/Python/3.9/lib/python/site-packages/sklearn/metrics/_classification.py:1565: UndefinedMetricWarning: Precision is ill-defined and being set to 0.0 due to no predicted samples. Use `zero_division` parameter to control this behavior.\n",
      "  _warn_prf(average, modifier, f\"{metric.capitalize()} is\", len(result))\n"
     ]
    },
    {
     "data": {
      "text/plain": [
       "[<matplotlib.lines.Line2D at 0x30f22d160>]"
      ]
     },
     "execution_count": 184,
     "metadata": {},
     "output_type": "execute_result"
    },
    {
     "data": {
      "image/png": "[encoded data removed]",
      "text/plain": [
       "<Figure size 640x480 with 1 Axes>"
      ]
     },
     "metadata": {},
     "output_type": "display_data"
    }
   ],
   "source": [
    "f1_score = []\n",
    "for t in thresholds:\n",
    "    y_p = (y_pred >= t).astype(int)\n",
    "    p = precision_score(y_val,y_p)\n",
    "    r = recall_score(y_val, y_p)\n",
    "    if (p + r) == 0:\n",
    "        f1 = 0\n",
    "    else:\n",
    "        f1 = 2 * (p * r) / (p + r)\n",
    "    f1_score.append(f1)\n",
    "    print(t,f1,p,r)\n",
    "\n",
    "plt.plot(thresholds,f1_score)\n"
   ]
  },
  {
   "cell_type": "markdown",
   "id": "362330f0-924a-4877-8d90-fd457ba58a1b",
   "metadata": {},
   "source": [
    "## Question 5 - 5-Fold CV"
   ]
  },
  {
   "cell_type": "code",
   "execution_count": 188,
   "id": "1dc15925-57e4-406e-90e4-f9dee152edb5",
   "metadata": {},
   "outputs": [],
   "source": [
    "from sklearn.model_selection import KFold"
   ]
  },
  {
   "cell_type": "code",
   "execution_count": 191,
   "id": "03442ff0-fadd-48f1-bacd-2e6c2c9d0819",
   "metadata": {},
   "outputs": [],
   "source": [
    "kfold = KFold(n_splits=5, shuffle=True, random_state = 1)"
   ]
  },
  {
   "cell_type": "code",
   "execution_count": 192,
   "id": "557fc32e-3da8-49fa-9d86-31a2ac85980f",
   "metadata": {},
   "outputs": [
    {
     "name": "stdout",
     "output_type": "stream",
     "text": [
      "0.8060745924216483\n",
      "0.8713738368910783\n",
      "0.7754320118852139\n",
      "0.8018368617683685\n",
      "0.8558272713202291\n",
      "0.8221089148573075 0.03580711942905165\n"
     ]
    },
    {
     "name": "stderr",
     "output_type": "stream",
     "text": [
      "/Users/adhamsmacbook/Library/Python/3.9/lib/python/site-packages/sklearn/utils/extmath.py:203: RuntimeWarning: divide by zero encountered in matmul\n",
      "  ret = a @ b\n",
      "/Users/adhamsmacbook/Library/Python/3.9/lib/python/site-packages/sklearn/utils/extmath.py:203: RuntimeWarning: overflow encountered in matmul\n",
      "  ret = a @ b\n",
      "/Users/adhamsmacbook/Library/Python/3.9/lib/python/site-packages/sklearn/utils/extmath.py:203: RuntimeWarning: invalid value encountered in matmul\n",
      "  ret = a @ b\n",
      "/Users/adhamsmacbook/Library/Python/3.9/lib/python/site-packages/sklearn/utils/extmath.py:203: RuntimeWarning: divide by zero encountered in matmul\n",
      "  ret = a @ b\n",
      "/Users/adhamsmacbook/Library/Python/3.9/lib/python/site-packages/sklearn/utils/extmath.py:203: RuntimeWarning: overflow encountered in matmul\n",
      "  ret = a @ b\n",
      "/Users/adhamsmacbook/Library/Python/3.9/lib/python/site-packages/sklearn/utils/extmath.py:203: RuntimeWarning: invalid value encountered in matmul\n",
      "  ret = a @ b\n",
      "/Users/adhamsmacbook/Library/Python/3.9/lib/python/site-packages/sklearn/utils/extmath.py:203: RuntimeWarning: divide by zero encountered in matmul\n",
      "  ret = a @ b\n",
      "/Users/adhamsmacbook/Library/Python/3.9/lib/python/site-packages/sklearn/utils/extmath.py:203: RuntimeWarning: overflow encountered in matmul\n",
      "  ret = a @ b\n",
      "/Users/adhamsmacbook/Library/Python/3.9/lib/python/site-packages/sklearn/utils/extmath.py:203: RuntimeWarning: invalid value encountered in matmul\n",
      "  ret = a @ b\n",
      "/Users/adhamsmacbook/Library/Python/3.9/lib/python/site-packages/sklearn/utils/extmath.py:203: RuntimeWarning: divide by zero encountered in matmul\n",
      "  ret = a @ b\n",
      "/Users/adhamsmacbook/Library/Python/3.9/lib/python/site-packages/sklearn/utils/extmath.py:203: RuntimeWarning: overflow encountered in matmul\n",
      "  ret = a @ b\n",
      "/Users/adhamsmacbook/Library/Python/3.9/lib/python/site-packages/sklearn/utils/extmath.py:203: RuntimeWarning: invalid value encountered in matmul\n",
      "  ret = a @ b\n",
      "/Users/adhamsmacbook/Library/Python/3.9/lib/python/site-packages/sklearn/utils/extmath.py:203: RuntimeWarning: divide by zero encountered in matmul\n",
      "  ret = a @ b\n",
      "/Users/adhamsmacbook/Library/Python/3.9/lib/python/site-packages/sklearn/utils/extmath.py:203: RuntimeWarning: overflow encountered in matmul\n",
      "  ret = a @ b\n",
      "/Users/adhamsmacbook/Library/Python/3.9/lib/python/site-packages/sklearn/utils/extmath.py:203: RuntimeWarning: invalid value encountered in matmul\n",
      "  ret = a @ b\n"
     ]
    }
   ],
   "source": [
    "score = []\n",
    "for train_idx, val_idx in kfold.split(full_train):\n",
    "    train_set = full_train.iloc[train_idx]\n",
    "    val_set   = full_train.iloc[val_idx]\n",
    "    \n",
    "    y_train = train_set['converted'].values\n",
    "    y_val   = val_set['converted'].values\n",
    "    \n",
    "    model, dv = train(train_set, y_train)\n",
    "    y_pred    = predict(val_set,model,dv)\n",
    "\n",
    "    auc = roc_auc_score(y_val,y_pred)\n",
    "    score.append(auc)\n",
    "    print(auc)\n",
    "print(np.mean(score),np.std(score))"
   ]
  },
  {
   "cell_type": "markdown",
   "id": "497e4b8c-7495-47fe-bf2f-44f31ac5bd0a",
   "metadata": {},
   "source": []
  },
  {
   "cell_type": "markdown",
   "id": "35fe28ea-bfcf-439d-8da6-e30bbfdc3922",
   "metadata": {},
   "source": [
    "## Question 6 -  Hyperparameter Tuning"
   ]
  },
  {
   "cell_type": "code",
   "execution_count": 203,
   "id": "aaca1f88-8be3-4b05-aeb0-ba7698472409",
   "metadata": {},
   "outputs": [
    {
     "name": "stdout",
     "output_type": "stream",
     "text": [
      "[(np.float64(0.56), np.float64(0.024)), (np.float64(0.867), np.float64(0.029)), (np.float64(0.822), np.float64(0.036))]\n"
     ]
    },
    {
     "name": "stderr",
     "output_type": "stream",
     "text": [
      "/Users/adhamsmacbook/Library/Python/3.9/lib/python/site-packages/sklearn/utils/extmath.py:203: RuntimeWarning: divide by zero encountered in matmul\n",
      "  ret = a @ b\n",
      "/Users/adhamsmacbook/Library/Python/3.9/lib/python/site-packages/sklearn/utils/extmath.py:203: RuntimeWarning: overflow encountered in matmul\n",
      "  ret = a @ b\n",
      "/Users/adhamsmacbook/Library/Python/3.9/lib/python/site-packages/sklearn/utils/extmath.py:203: RuntimeWarning: invalid value encountered in matmul\n",
      "  ret = a @ b\n",
      "/Users/adhamsmacbook/Library/Python/3.9/lib/python/site-packages/sklearn/utils/extmath.py:203: RuntimeWarning: divide by zero encountered in matmul\n",
      "  ret = a @ b\n",
      "/Users/adhamsmacbook/Library/Python/3.9/lib/python/site-packages/sklearn/utils/extmath.py:203: RuntimeWarning: overflow encountered in matmul\n",
      "  ret = a @ b\n",
      "/Users/adhamsmacbook/Library/Python/3.9/lib/python/site-packages/sklearn/utils/extmath.py:203: RuntimeWarning: invalid value encountered in matmul\n",
      "  ret = a @ b\n",
      "/Users/adhamsmacbook/Library/Python/3.9/lib/python/site-packages/sklearn/utils/extmath.py:203: RuntimeWarning: divide by zero encountered in matmul\n",
      "  ret = a @ b\n",
      "/Users/adhamsmacbook/Library/Python/3.9/lib/python/site-packages/sklearn/utils/extmath.py:203: RuntimeWarning: overflow encountered in matmul\n",
      "  ret = a @ b\n",
      "/Users/adhamsmacbook/Library/Python/3.9/lib/python/site-packages/sklearn/utils/extmath.py:203: RuntimeWarning: invalid value encountered in matmul\n",
      "  ret = a @ b\n",
      "/Users/adhamsmacbook/Library/Python/3.9/lib/python/site-packages/sklearn/utils/extmath.py:203: RuntimeWarning: divide by zero encountered in matmul\n",
      "  ret = a @ b\n",
      "/Users/adhamsmacbook/Library/Python/3.9/lib/python/site-packages/sklearn/utils/extmath.py:203: RuntimeWarning: overflow encountered in matmul\n",
      "  ret = a @ b\n",
      "/Users/adhamsmacbook/Library/Python/3.9/lib/python/site-packages/sklearn/utils/extmath.py:203: RuntimeWarning: invalid value encountered in matmul\n",
      "  ret = a @ b\n",
      "/Users/adhamsmacbook/Library/Python/3.9/lib/python/site-packages/sklearn/utils/extmath.py:203: RuntimeWarning: divide by zero encountered in matmul\n",
      "  ret = a @ b\n",
      "/Users/adhamsmacbook/Library/Python/3.9/lib/python/site-packages/sklearn/utils/extmath.py:203: RuntimeWarning: overflow encountered in matmul\n",
      "  ret = a @ b\n",
      "/Users/adhamsmacbook/Library/Python/3.9/lib/python/site-packages/sklearn/utils/extmath.py:203: RuntimeWarning: invalid value encountered in matmul\n",
      "  ret = a @ b\n",
      "/Users/adhamsmacbook/Library/Python/3.9/lib/python/site-packages/sklearn/utils/extmath.py:203: RuntimeWarning: divide by zero encountered in matmul\n",
      "  ret = a @ b\n",
      "/Users/adhamsmacbook/Library/Python/3.9/lib/python/site-packages/sklearn/utils/extmath.py:203: RuntimeWarning: overflow encountered in matmul\n",
      "  ret = a @ b\n",
      "/Users/adhamsmacbook/Library/Python/3.9/lib/python/site-packages/sklearn/utils/extmath.py:203: RuntimeWarning: invalid value encountered in matmul\n",
      "  ret = a @ b\n",
      "/Users/adhamsmacbook/Library/Python/3.9/lib/python/site-packages/sklearn/utils/extmath.py:203: RuntimeWarning: divide by zero encountered in matmul\n",
      "  ret = a @ b\n",
      "/Users/adhamsmacbook/Library/Python/3.9/lib/python/site-packages/sklearn/utils/extmath.py:203: RuntimeWarning: overflow encountered in matmul\n",
      "  ret = a @ b\n",
      "/Users/adhamsmacbook/Library/Python/3.9/lib/python/site-packages/sklearn/utils/extmath.py:203: RuntimeWarning: invalid value encountered in matmul\n",
      "  ret = a @ b\n",
      "/Users/adhamsmacbook/Library/Python/3.9/lib/python/site-packages/sklearn/utils/extmath.py:203: RuntimeWarning: divide by zero encountered in matmul\n",
      "  ret = a @ b\n",
      "/Users/adhamsmacbook/Library/Python/3.9/lib/python/site-packages/sklearn/utils/extmath.py:203: RuntimeWarning: overflow encountered in matmul\n",
      "  ret = a @ b\n",
      "/Users/adhamsmacbook/Library/Python/3.9/lib/python/site-packages/sklearn/utils/extmath.py:203: RuntimeWarning: invalid value encountered in matmul\n",
      "  ret = a @ b\n",
      "/Users/adhamsmacbook/Library/Python/3.9/lib/python/site-packages/sklearn/utils/extmath.py:203: RuntimeWarning: divide by zero encountered in matmul\n",
      "  ret = a @ b\n",
      "/Users/adhamsmacbook/Library/Python/3.9/lib/python/site-packages/sklearn/utils/extmath.py:203: RuntimeWarning: overflow encountered in matmul\n",
      "  ret = a @ b\n",
      "/Users/adhamsmacbook/Library/Python/3.9/lib/python/site-packages/sklearn/utils/extmath.py:203: RuntimeWarning: invalid value encountered in matmul\n",
      "  ret = a @ b\n",
      "/Users/adhamsmacbook/Library/Python/3.9/lib/python/site-packages/sklearn/utils/extmath.py:203: RuntimeWarning: divide by zero encountered in matmul\n",
      "  ret = a @ b\n",
      "/Users/adhamsmacbook/Library/Python/3.9/lib/python/site-packages/sklearn/utils/extmath.py:203: RuntimeWarning: overflow encountered in matmul\n",
      "  ret = a @ b\n",
      "/Users/adhamsmacbook/Library/Python/3.9/lib/python/site-packages/sklearn/utils/extmath.py:203: RuntimeWarning: invalid value encountered in matmul\n",
      "  ret = a @ b\n",
      "/Users/adhamsmacbook/Library/Python/3.9/lib/python/site-packages/sklearn/utils/extmath.py:203: RuntimeWarning: divide by zero encountered in matmul\n",
      "  ret = a @ b\n",
      "/Users/adhamsmacbook/Library/Python/3.9/lib/python/site-packages/sklearn/utils/extmath.py:203: RuntimeWarning: overflow encountered in matmul\n",
      "  ret = a @ b\n",
      "/Users/adhamsmacbook/Library/Python/3.9/lib/python/site-packages/sklearn/utils/extmath.py:203: RuntimeWarning: invalid value encountered in matmul\n",
      "  ret = a @ b\n",
      "/Users/adhamsmacbook/Library/Python/3.9/lib/python/site-packages/sklearn/utils/extmath.py:203: RuntimeWarning: divide by zero encountered in matmul\n",
      "  ret = a @ b\n",
      "/Users/adhamsmacbook/Library/Python/3.9/lib/python/site-packages/sklearn/utils/extmath.py:203: RuntimeWarning: overflow encountered in matmul\n",
      "  ret = a @ b\n",
      "/Users/adhamsmacbook/Library/Python/3.9/lib/python/site-packages/sklearn/utils/extmath.py:203: RuntimeWarning: invalid value encountered in matmul\n",
      "  ret = a @ b\n",
      "/Users/adhamsmacbook/Library/Python/3.9/lib/python/site-packages/sklearn/utils/extmath.py:203: RuntimeWarning: divide by zero encountered in matmul\n",
      "  ret = a @ b\n",
      "/Users/adhamsmacbook/Library/Python/3.9/lib/python/site-packages/sklearn/utils/extmath.py:203: RuntimeWarning: overflow encountered in matmul\n",
      "  ret = a @ b\n",
      "/Users/adhamsmacbook/Library/Python/3.9/lib/python/site-packages/sklearn/utils/extmath.py:203: RuntimeWarning: invalid value encountered in matmul\n",
      "  ret = a @ b\n",
      "/Users/adhamsmacbook/Library/Python/3.9/lib/python/site-packages/sklearn/utils/extmath.py:203: RuntimeWarning: divide by zero encountered in matmul\n",
      "  ret = a @ b\n",
      "/Users/adhamsmacbook/Library/Python/3.9/lib/python/site-packages/sklearn/utils/extmath.py:203: RuntimeWarning: overflow encountered in matmul\n",
      "  ret = a @ b\n",
      "/Users/adhamsmacbook/Library/Python/3.9/lib/python/site-packages/sklearn/utils/extmath.py:203: RuntimeWarning: invalid value encountered in matmul\n",
      "  ret = a @ b\n",
      "/Users/adhamsmacbook/Library/Python/3.9/lib/python/site-packages/sklearn/utils/extmath.py:203: RuntimeWarning: divide by zero encountered in matmul\n",
      "  ret = a @ b\n",
      "/Users/adhamsmacbook/Library/Python/3.9/lib/python/site-packages/sklearn/utils/extmath.py:203: RuntimeWarning: overflow encountered in matmul\n",
      "  ret = a @ b\n",
      "/Users/adhamsmacbook/Library/Python/3.9/lib/python/site-packages/sklearn/utils/extmath.py:203: RuntimeWarning: invalid value encountered in matmul\n",
      "  ret = a @ b\n"
     ]
    }
   ],
   "source": [
    "C = [0.000001, 0.001, 1]\n",
    "final = []\n",
    "for c in C:\n",
    "    score = []\n",
    "    for train_idx, val_idx in kfold.split(full_train):\n",
    "        train_set = full_train.iloc[train_idx]\n",
    "        val_set   = full_train.iloc[val_idx]\n",
    "        \n",
    "        y_train = train_set['converted'].values\n",
    "        y_val   = val_set['converted'].values\n",
    "        \n",
    "        model, dv = train(train_set, y_train,C=c)\n",
    "        y_pred    = predict(val_set,model,dv)\n",
    "    \n",
    "        auc = roc_auc_score(y_val,y_pred)\n",
    "        score.append(auc)\n",
    "    final.append((np.mean(score).round(3),np.std(score).round(3)))\n",
    "print(final)"
   ]
  },
  {
   "cell_type": "code",
   "execution_count": null,
   "id": "da2688d6-2596-4cf1-9353-138ef50d90fd",
   "metadata": {},
   "outputs": [],
   "source": []
  }
 ],
 "metadata": {
  "kernelspec": {
   "display_name": "Python 3 (ipykernel)",
   "language": "python",
   "name": "python3"
  },
  "language_info": {
   "codemirror_mode": {
    "name": "ipython",
    "version": 3
   },
   "file_extension": ".py",
   "mimetype": "text/x-python",
   "name": "python",
   "nbconvert_exporter": "python",
   "pygments_lexer": "ipython3",
   "version": "3.9.6"
  }
 },
 "nbformat": 4,
 "nbformat_minor": 5
}
