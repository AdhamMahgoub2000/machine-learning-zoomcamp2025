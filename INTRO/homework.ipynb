{
 "cells": [
  {
   "cell_type": "markdown",
   "id": "bf020137-7a9a-463a-8e76-21666ab5c2fb",
   "metadata": {},
   "source": [
    "\n",
    "<h1 style=\"color:blue;\">HOMEWORK MODULE 1</h1>\n"
   ]
  },
  {
   "cell_type": "markdown",
   "id": "8b3ed179-e8a3-4cd3-a309-fe4d231f9071",
   "metadata": {},
   "source": [
    " ### 1. Pandas Version"
   ]
  },
  {
   "cell_type": "code",
   "execution_count": 74,
   "id": "a4c43a56-c81e-4a5e-a6d4-bb4231027f93",
   "metadata": {},
   "outputs": [],
   "source": [
    "import pandas as pd\n",
    "import numpy as np"
   ]
  },
  {
   "cell_type": "code",
   "execution_count": 75,
   "id": "3d941ded-7311-4058-acf0-64596a9b505d",
   "metadata": {},
   "outputs": [
    {
     "data": {
      "text/plain": [
       "'2.3.1'"
      ]
     },
     "execution_count": 75,
     "metadata": {},
     "output_type": "execute_result"
    }
   ],
   "source": [
    "pd.__version__"
   ]
  },
  {
   "cell_type": "markdown",
   "id": "e05a33e4-978d-479b-a602-9d8d301887e4",
   "metadata": {},
   "source": [
    "### 2. Records Count"
   ]
  },
  {
   "cell_type": "code",
   "execution_count": 76,
   "id": "96cb3416-0964-4e5e-a382-8fcbc468df8a",
   "metadata": {},
   "outputs": [],
   "source": [
    "df = pd.read_csv('https://raw.githubusercontent.com/alexeygrigorev/datasets/master/car_fuel_efficiency.csv')"
   ]
  },
  {
   "cell_type": "code",
   "execution_count": 77,
   "id": "39e46346-e427-4961-a48b-66676b9a3aee",
   "metadata": {},
   "outputs": [
    {
     "data": {
      "text/html": [
       "<div>\n",
       "<style scoped>\n",
       "    .dataframe tbody tr th:only-of-type {\n",
       "        vertical-align: middle;\n",
       "    }\n",
       "\n",
       "    .dataframe tbody tr th {\n",
       "        vertical-align: top;\n",
       "    }\n",
       "\n",
       "    .dataframe thead th {\n",
       "        text-align: right;\n",
       "    }\n",
       "</style>\n",
       "<table border=\"1\" class=\"dataframe\">\n",
       "  <thead>\n",
       "    <tr style=\"text-align: right;\">\n",
       "      <th></th>\n",
       "      <th>engine_displacement</th>\n",
       "      <th>num_cylinders</th>\n",
       "      <th>horsepower</th>\n",
       "      <th>vehicle_weight</th>\n",
       "      <th>acceleration</th>\n",
       "      <th>model_year</th>\n",
       "      <th>origin</th>\n",
       "      <th>fuel_type</th>\n",
       "      <th>drivetrain</th>\n",
       "      <th>num_doors</th>\n",
       "      <th>fuel_efficiency_mpg</th>\n",
       "    </tr>\n",
       "  </thead>\n",
       "  <tbody>\n",
       "    <tr>\n",
       "      <th>0</th>\n",
       "      <td>170</td>\n",
       "      <td>3.0</td>\n",
       "      <td>159.0</td>\n",
       "      <td>3413.433759</td>\n",
       "      <td>17.7</td>\n",
       "      <td>2003</td>\n",
       "      <td>Europe</td>\n",
       "      <td>Gasoline</td>\n",
       "      <td>All-wheel drive</td>\n",
       "      <td>0.0</td>\n",
       "      <td>13.231729</td>\n",
       "    </tr>\n",
       "    <tr>\n",
       "      <th>1</th>\n",
       "      <td>130</td>\n",
       "      <td>5.0</td>\n",
       "      <td>97.0</td>\n",
       "      <td>3149.664934</td>\n",
       "      <td>17.8</td>\n",
       "      <td>2007</td>\n",
       "      <td>USA</td>\n",
       "      <td>Gasoline</td>\n",
       "      <td>Front-wheel drive</td>\n",
       "      <td>0.0</td>\n",
       "      <td>13.688217</td>\n",
       "    </tr>\n",
       "  </tbody>\n",
       "</table>\n",
       "</div>"
      ],
      "text/plain": [
       "   engine_displacement  num_cylinders  horsepower  vehicle_weight  \\\n",
       "0                  170            3.0       159.0     3413.433759   \n",
       "1                  130            5.0        97.0     3149.664934   \n",
       "\n",
       "   acceleration  model_year  origin fuel_type         drivetrain  num_doors  \\\n",
       "0          17.7        2003  Europe  Gasoline    All-wheel drive        0.0   \n",
       "1          17.8        2007     USA  Gasoline  Front-wheel drive        0.0   \n",
       "\n",
       "   fuel_efficiency_mpg  \n",
       "0            13.231729  \n",
       "1            13.688217  "
      ]
     },
     "execution_count": 77,
     "metadata": {},
     "output_type": "execute_result"
    }
   ],
   "source": [
    "df.head(2)"
   ]
  },
  {
   "cell_type": "code",
   "execution_count": 78,
   "id": "7f431239-06e0-4965-bf26-5e870380b78c",
   "metadata": {},
   "outputs": [
    {
     "data": {
      "text/plain": [
       "9704"
      ]
     },
     "execution_count": 78,
     "metadata": {},
     "output_type": "execute_result"
    }
   ],
   "source": [
    "len(df)"
   ]
  },
  {
   "cell_type": "markdown",
   "id": "a9780ce7-b53c-4366-a823-ef27b96d4a88",
   "metadata": {},
   "source": [
    "### 3. Fuel Types"
   ]
  },
  {
   "cell_type": "code",
   "execution_count": 79,
   "id": "19178888-2d6a-4118-9284-b715f942cf98",
   "metadata": {},
   "outputs": [
    {
     "data": {
      "text/plain": [
       "2"
      ]
     },
     "execution_count": 79,
     "metadata": {},
     "output_type": "execute_result"
    }
   ],
   "source": [
    "df.fuel_type.nunique()"
   ]
  },
  {
   "cell_type": "markdown",
   "id": "1aa22552-4859-4647-9f4c-66462358c2c7",
   "metadata": {},
   "source": [
    "### 4. Missing Values"
   ]
  },
  {
   "cell_type": "code",
   "execution_count": 80,
   "id": "0fa19d77-6f18-4b3e-82e0-182e1a5ede4b",
   "metadata": {},
   "outputs": [],
   "source": [
    "missing_values=df.isnull().sum()"
   ]
  },
  {
   "cell_type": "code",
   "execution_count": 81,
   "id": "a830ec32-5472-46f7-9963-d5ab3b5664b4",
   "metadata": {},
   "outputs": [
    {
     "data": {
      "text/plain": [
       "np.int64(4)"
      ]
     },
     "execution_count": 81,
     "metadata": {},
     "output_type": "execute_result"
    }
   ],
   "source": [
    "(missing_values >0).sum()"
   ]
  },
  {
   "cell_type": "markdown",
   "id": "8835c5e3-fa8d-4669-b8f7-e50259359fb7",
   "metadata": {},
   "source": [
    "### 5. Max Fuel Efficiency"
   ]
  },
  {
   "cell_type": "code",
   "execution_count": 82,
   "id": "42edc87d-787b-4030-ade5-bc79af90ea41",
   "metadata": {},
   "outputs": [
    {
     "data": {
      "text/plain": [
       "np.float64(23.759122836520497)"
      ]
     },
     "execution_count": 82,
     "metadata": {},
     "output_type": "execute_result"
    }
   ],
   "source": [
    "df[df['origin'] == 'Asia']['fuel_efficiency_mpg'].max()"
   ]
  },
  {
   "cell_type": "markdown",
   "id": "fa264cda-90ad-4199-83f0-cdba8b258b06",
   "metadata": {},
   "source": [
    "### 6. Median Value of Horsepower"
   ]
  },
  {
   "cell_type": "code",
   "execution_count": 83,
   "id": "3bb7734c-e930-4de0-b2a8-ed82e69c2484",
   "metadata": {},
   "outputs": [
    {
     "data": {
      "text/plain": [
       "np.float64(149.65729212983547)"
      ]
     },
     "execution_count": 83,
     "metadata": {},
     "output_type": "execute_result"
    }
   ],
   "source": [
    "df['horsepower'].mean()"
   ]
  },
  {
   "cell_type": "code",
   "execution_count": 84,
   "id": "26aab696-162a-4803-8565-40f5647fe6bb",
   "metadata": {},
   "outputs": [
    {
     "data": {
      "text/plain": [
       "np.float64(152.0)"
      ]
     },
     "execution_count": 84,
     "metadata": {},
     "output_type": "execute_result"
    }
   ],
   "source": [
    "df['horsepower'].mode()[0]"
   ]
  },
  {
   "cell_type": "code",
   "execution_count": 85,
   "id": "50f80b7a-0dd3-4ec3-9ed3-c0f66a5263ec",
   "metadata": {},
   "outputs": [],
   "source": [
    "df['horsepower'] = df['horsepower'].fillna(df['horsepower'].mode()[0])"
   ]
  },
  {
   "cell_type": "code",
   "execution_count": 86,
   "id": "79def3cf-be51-450f-ab50-4fd08d401f20",
   "metadata": {},
   "outputs": [
    {
     "data": {
      "text/plain": [
       "np.float64(149.82821516900248)"
      ]
     },
     "execution_count": 86,
     "metadata": {},
     "output_type": "execute_result"
    }
   ],
   "source": [
    "df['horsepower'].mean()"
   ]
  },
  {
   "cell_type": "markdown",
   "id": "8227bb11-aa22-4eff-855d-81abfd08ddcb",
   "metadata": {},
   "source": [
    "```\n",
    "Yes the Mean of the Horsepower slightly Increased\n",
    "```"
   ]
  },
  {
   "cell_type": "markdown",
   "id": "8dae4303-0533-42f4-aa1e-a01caa01fa1b",
   "metadata": {},
   "source": [
    "### 7. Sum of Weights"
   ]
  },
  {
   "cell_type": "code",
   "execution_count": 87,
   "id": "8e373e7e-c15f-4411-a2de-478040f6d76d",
   "metadata": {},
   "outputs": [],
   "source": [
    "X=df[df['origin']=='Asia'][['vehicle_weight','model_year']][:7]"
   ]
  },
  {
   "cell_type": "code",
   "execution_count": 88,
   "id": "2e0b8541-93e7-44cf-8be1-fc8bb0fe69a0",
   "metadata": {},
   "outputs": [],
   "source": [
    "X=X.to_numpy()"
   ]
  },
  {
   "cell_type": "code",
   "execution_count": 89,
   "id": "b26a7f59-520b-4d67-b8ce-24bc97685f43",
   "metadata": {},
   "outputs": [],
   "source": [
    "XTX= X.T.dot(X)"
   ]
  },
  {
   "cell_type": "code",
   "execution_count": 90,
   "id": "5b9b822f-51dc-49e8-8563-e996a1972631",
   "metadata": {},
   "outputs": [],
   "source": [
    "inv_XTX= np.linalg.inv(XTX)"
   ]
  },
  {
   "cell_type": "code",
   "execution_count": 91,
   "id": "9d7e8614-f2d1-4248-b97f-719b82e2cec1",
   "metadata": {},
   "outputs": [],
   "source": [
    "y=np.array([1100, 1300, 800, 900, 1000, 1100, 1200])"
   ]
  },
  {
   "cell_type": "code",
   "execution_count": 92,
   "id": "54fa63d1-98dd-4422-ba53-b577a407d039",
   "metadata": {},
   "outputs": [],
   "source": [
    "w= (inv_XTX.dot(X.T)).dot(y)"
   ]
  },
  {
   "cell_type": "code",
   "execution_count": 93,
   "id": "48e83c94-cf13-43c1-bb24-0bf1c987149c",
   "metadata": {},
   "outputs": [
    {
     "data": {
      "text/plain": [
       "np.float64(0.5187709081074016)"
      ]
     },
     "execution_count": 93,
     "metadata": {},
     "output_type": "execute_result"
    }
   ],
   "source": [
    "w.sum()"
   ]
  },
  {
   "cell_type": "markdown",
   "id": "ae9acccf-d7a2-4623-9db1-2876362c744f",
   "metadata": {},
   "source": [
    "## THAT'S ALL. THANKS FOR WATCHING. \n",
    "## SEE YOU IN MODULE 2"
   ]
  }
 ],
 "metadata": {
  "kernelspec": {
   "display_name": "Python 3 (ipykernel)",
   "language": "python",
   "name": "python3"
  },
  "language_info": {
   "codemirror_mode": {
    "name": "ipython",
    "version": 3
   },
   "file_extension": ".py",
   "mimetype": "text/x-python",
   "name": "python",
   "nbconvert_exporter": "python",
   "pygments_lexer": "ipython3",
   "version": "3.12.1"
  }
 },
 "nbformat": 4,
 "nbformat_minor": 5
}
